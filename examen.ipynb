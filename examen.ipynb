{
  "nbformat": 4,
  "nbformat_minor": 0,
  "metadata": {
    "colab": {
      "provenance": [],
      "mount_file_id": "1AOR9mCTEKw4YTuu45THjI5HBPL4E-AWp",
      "authorship_tag": "ABX9TyO7qrsZ7w/+kgXDDZwoz3WL",
      "include_colab_link": true
    },
    "kernelspec": {
      "name": "python3",
      "display_name": "Python 3"
    },
    "language_info": {
      "name": "python"
    }
  },
  "cells": [
    {
      "cell_type": "markdown",
      "metadata": {
        "id": "view-in-github",
        "colab_type": "text"
      },
      "source": [
        "<a href=\"https://colab.research.google.com/github/Spencer272/ExamenU1-Computo_en_la_Nube/blob/main/examen.ipynb\" target=\"_parent\"><img src=\"https://colab.research.google.com/assets/colab-badge.svg\" alt=\"Open In Colab\"/></a>"
      ]
    },
    {
      "cell_type": "code",
      "source": [
        "# Celda 1 en Google Colab\n",
        "def es_primo(numero):\n",
        "    if numero <= 1:\n",
        "        return False\n",
        "    if numero == 2:\n",
        "        return True\n",
        "    if numero % 2 == 0:\n",
        "        return False\n",
        "# Comprobar si el número es divisible por algún impar desde 3 hasta la raíz cuadrada de 'numero'\n",
        "    for i in range(3, int(numero**0.5) + 1, 2):\n",
        "        if numero % i == 0:\n",
        "            return False\n",
        "    return True"
      ],
      "metadata": {
        "id": "1mEQ6QYolsLo"
      },
      "execution_count": null,
      "outputs": []
    },
    {
      "cell_type": "code",
      "source": [
        "from mi_funcion import es_primo\n",
        "def siguientePrimo(n):\n",
        "    siguiente = n + 1\n",
        "    while True:\n",
        "        if es_primo(siguiente):\n",
        "            return siguiente\n",
        "        siguiente += 1\n",
        "\n",
        "if __name__ == \"__main__\":\n",
        "    numero = int(input(\"Ingrese un número entero: \"))\n",
        "\n",
        "    primo_siguiente = siguientePrimo(numero)\n",
        "    print(f\"El primer número primo mayor que {numero} es {primo_siguiente}.\")\n"
      ],
      "metadata": {
        "colab": {
          "base_uri": "https://localhost:8080/"
        },
        "id": "LxqZHsq1byYu",
        "outputId": "c1dc69d3-71dc-40f5-b00a-cab859a6a38f"
      },
      "execution_count": 1,
      "outputs": [
        {
          "output_type": "stream",
          "name": "stdout",
          "text": [
            "Ingrese un número entero: 5\n",
            "El primer número primo mayor que 5 es 7.\n"
          ]
        }
      ]
    },
    {
      "cell_type": "code",
      "source": [
        "def mediana(a, b, c):\n",
        "    # Ordena los números en orden ascendente\n",
        "    numeros_ordenados = sorted([a, b, c])\n",
        "\n",
        "    # Devuelve el valor del medio\n",
        "    return numeros_ordenados[1]\n",
        "\n",
        "if __name__ == \"__main__\":\n",
        "    try:\n",
        "        # Lee tres valores del usuario\n",
        "        num1 = float(input(\"Ingrese el primer número: \"))\n",
        "        num2 = float(input(\"Ingrese el segundo número: \"))\n",
        "        num3 = float(input(\"Ingrese el tercer número: \"))\n",
        "\n",
        "        # Calcula la mediana utilizando la función mediana\n",
        "        resultado = mediana(num1, num2, num3)\n",
        "\n",
        "        # Muestra el resultado\n",
        "        print(f\"La mediana de {num1}, {num2} y {num3} es: {resultado}\")\n",
        "\n",
        "    except ValueError:\n",
        "        print(\"Por favor, ingrese números válidos.\")\n"
      ],
      "metadata": {
        "colab": {
          "base_uri": "https://localhost:8080/"
        },
        "id": "TB78zwSMfZBM",
        "outputId": "380811a8-8a9e-4e26-a534-07d897ed15db"
      },
      "execution_count": null,
      "outputs": [
        {
          "output_type": "stream",
          "name": "stdout",
          "text": [
            "Ingrese el primer número: 5\n",
            "Ingrese el segundo número: 7\n",
            "Ingrese el tercer número: 8\n",
            "La mediana de 5.0, 7.0 y 8.0 es: 7.0\n"
          ]
        }
      ]
    },
    {
      "cell_type": "code",
      "source": [
        "import random\n",
        "\n",
        "def generar_contrasena_aleatoria():\n",
        "    longitud = random.randint(7, 10)  # Genera una longitud aleatoria entre 7 y 10 caracteres\n",
        "    contrasena = []\n",
        "\n",
        "    for _ in range(longitud):\n",
        "        # Genera un carácter aleatorio en el rango de 33 a 126 en la tabla ASCII\n",
        "        caracter_aleatorio = chr(random.randint(33, 126))\n",
        "        contrasena.append(caracter_aleatorio)\n",
        "\n",
        "    return ''.join(contrasena)  # Convierte la lista de caracteres en una cadena\n",
        "\n",
        "if __name__ == \"__main__\":\n",
        "    contrasena_generada = generar_contrasena_aleatoria()\n",
        "    print(\"Contraseña generada aleatoriamente:\", contrasena_generada)\n"
      ],
      "metadata": {
        "id": "ZRV70YxmjwtW",
        "colab": {
          "base_uri": "https://localhost:8080/"
        },
        "outputId": "fbf0bc16-fc49-4eed-c08c-dad25ef1195a"
      },
      "execution_count": null,
      "outputs": [
        {
          "output_type": "stream",
          "name": "stdout",
          "text": [
            "Contraseña generada aleatoriamente: vhXv/0,?n\n"
          ]
        }
      ]
    },
    {
      "cell_type": "code",
      "source": [
        "import math\n",
        "\n",
        "# Definir la función para calcular la hipotenusa\n",
        "def calcular_hipotenusa(lado1, lado2):\n",
        "    hipotenusa = math.sqrt(lado1**2 + lado2**2)\n",
        "    return hipotenusa\n",
        "\n",
        "# Programa principal\n",
        "if __name__ == \"__main__\":\n",
        "    # Solicitar al usuario las longitudes de los lados más cortos\n",
        "    lado1 = float(input(\"Ingrese la longitud del primer lado corto: \"))\n",
        "    lado2 = float(input(\"Ingrese la longitud del segundo lado corto: \"))\n",
        "\n",
        "    # Calcular la hipotenusa utilizando la función\n",
        "    hipotenusa = calcular_hipotenusa(lado1, lado2)\n",
        "\n",
        "    # Mostrar el resultado\n",
        "    print(f\"La longitud de la hipotenusa es: {hipotenusa}\")\n"
      ],
      "metadata": {
        "colab": {
          "base_uri": "https://localhost:8080/"
        },
        "id": "3eWudnY-n4b1",
        "outputId": "03102394-9d35-428a-a332-2c3e3762c1fa"
      },
      "execution_count": null,
      "outputs": [
        {
          "output_type": "stream",
          "name": "stdout",
          "text": [
            "Ingrese la longitud del primer lado corto: 2\n",
            "Ingrese la longitud del segundo lado corto: 2\n",
            "La longitud de la hipotenusa es: 2.8284271247461903\n"
          ]
        }
      ]
    }
  ]
}